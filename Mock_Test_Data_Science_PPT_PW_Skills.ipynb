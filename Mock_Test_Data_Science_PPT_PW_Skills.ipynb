{
  "nbformat": 4,
  "nbformat_minor": 0,
  "metadata": {
    "colab": {
      "provenance": []
    },
    "kernelspec": {
      "name": "python3",
      "display_name": "Python 3"
    },
    "language_info": {
      "name": "python"
    }
  },
  "cells": [
    {
      "cell_type": "code",
      "execution_count": null,
      "metadata": {
        "id": "JeF-74BqS0FI"
      },
      "outputs": [],
      "source": [
        "Question 1"
      ]
    },
    {
      "cell_type": "code",
      "source": [
        "def even_num(numbers):\n",
        "    return [num for num in numbers if num % 2 == 0]\n",
        "input_list = [1, 2, 3, 4, 5, 6, 7, 8, 9, 10]\n",
        "output_list = even_num(input_list)\n",
        "print(output_list)\n"
      ],
      "metadata": {
        "colab": {
          "base_uri": "https://localhost:8080/"
        },
        "id": "HJKR0HkHT0X1",
        "outputId": "e306d8c2-e3dd-4d26-f55f-d68e62f4a115"
      },
      "execution_count": 1,
      "outputs": [
        {
          "output_type": "stream",
          "name": "stdout",
          "text": [
            "[2, 4, 6, 8, 10]\n"
          ]
        }
      ]
    },
    {
      "cell_type": "markdown",
      "source": [
        "Question 2"
      ],
      "metadata": {
        "id": "-c4PboOrTGFW"
      }
    },
    {
      "cell_type": "code",
      "source": [
        "import time\n",
        "\n",
        "def timer(func):\n",
        "    def wrapper(*args, **kwargs):\n",
        "        start_time = time.time()\n",
        "        result = func(*args, **kwargs)\n",
        "        end_time = time.time()\n",
        "        execution_time = end_time - start_time\n",
        "        print(f\"Execution time: {execution_time:.5f} seconds\")\n",
        "        return result\n",
        "    return wrapper\n",
        "@timer\n",
        "def my_function():\n",
        "    time.sleep(2)\n",
        "\n",
        "my_function()\n"
      ],
      "metadata": {
        "colab": {
          "base_uri": "https://localhost:8080/"
        },
        "id": "fXmYcQAKUL-o",
        "outputId": "41abdab9-0273-4cb3-a69e-81dabef003d5"
      },
      "execution_count": 4,
      "outputs": [
        {
          "output_type": "stream",
          "name": "stdout",
          "text": [
            "Execution time: 2.00129 seconds\n"
          ]
        }
      ]
    },
    {
      "cell_type": "markdown",
      "source": [
        "Question 3"
      ],
      "metadata": {
        "id": "cIe8y8NfTHh9"
      }
    },
    {
      "cell_type": "code",
      "source": [
        "def cal_mean(numbers):\n",
        "    total = sum(numbers)\n",
        "    count = len(numbers)\n",
        "    mean = total / count\n",
        "    return mean\n",
        "data = [10, 15, 20, 25, 30]\n",
        "mean_value = cal_mean(data)\n",
        "print(\"Mean:\", mean_value)\n"
      ],
      "metadata": {
        "colab": {
          "base_uri": "https://localhost:8080/"
        },
        "id": "0ExwwHliUuwH",
        "outputId": "881fc478-b78d-45ac-cd19-430a97568422"
      },
      "execution_count": 5,
      "outputs": [
        {
          "output_type": "stream",
          "name": "stdout",
          "text": [
            "Mean: 20.0\n"
          ]
        }
      ]
    },
    {
      "cell_type": "markdown",
      "source": [
        "Question 4"
      ],
      "metadata": {
        "id": "tTgsPTQoTI2j"
      }
    },
    {
      "cell_type": "code",
      "source": [
        "from scipy import stats\n",
        "\n",
        "def perform_hypothesis_test(sample1, sample2):\n",
        "    t_statistic, p_value = stats.ttest_ind(sample1, sample2)\n",
        "    return p_value\n",
        "sample1 = [5, 10, 15, 20, 25]\n",
        "sample2 = [10, 20, 30, 40, 50]\n",
        "p_value = perform_hypothesis_test(sample1, sample2)\n",
        "print(\"P-value:\", p_value)\n"
      ],
      "metadata": {
        "colab": {
          "base_uri": "https://localhost:8080/"
        },
        "id": "2_orxS9HU-Ny",
        "outputId": "6df64bae-9edb-44ff-ab72-b4350735f505"
      },
      "execution_count": 6,
      "outputs": [
        {
          "output_type": "stream",
          "name": "stdout",
          "text": [
            "P-value: 0.09434977284243756\n"
          ]
        }
      ]
    }
  ]
}