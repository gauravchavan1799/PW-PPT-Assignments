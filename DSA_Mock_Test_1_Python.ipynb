{
  "nbformat": 4,
  "nbformat_minor": 0,
  "metadata": {
    "colab": {
      "provenance": []
    },
    "kernelspec": {
      "name": "python3",
      "display_name": "Python 3"
    },
    "language_info": {
      "name": "python"
    }
  },
  "cells": [
    {
      "cell_type": "code",
      "execution_count": null,
      "metadata": {
        "id": "gcRysusw71nR"
      },
      "outputs": [],
      "source": [
        "QUESTION 1"
      ]
    },
    {
      "cell_type": "markdown",
      "source": [],
      "metadata": {
        "id": "yPuqvhHu74Oe"
      }
    },
    {
      "cell_type": "code",
      "source": [
        "def moveZeroe(nums):\n",
        "    left = 0\n",
        "    for right in range(len(nums)):\n",
        "        if nums[right] != 0:\n",
        "            nums[left], nums[right] = nums[right], nums[left]\n",
        "            left += 1\n",
        "\n",
        "    while left < len(nums):\n",
        "        nums[left] = 0\n",
        "        left += 1\n",
        "\n",
        "    return nums\n",
        "\n",
        "# Ex 1\n",
        "nums = [0, 1, 0, 3, 12]\n",
        "print(moveZeroe(nums))\n",
        "\n",
        "# Ex 2\n",
        "nums = [0]\n",
        "print(moveZeroe(nums))"
      ],
      "metadata": {
        "colab": {
          "base_uri": "https://localhost:8080/"
        },
        "id": "vjoTMZpb73Yv",
        "outputId": "f3c9c715-2938-47a2-96f2-bb5c26fdf2f3"
      },
      "execution_count": 2,
      "outputs": [
        {
          "output_type": "stream",
          "name": "stdout",
          "text": [
            "[1, 3, 12, 0, 0]\n",
            "[0]\n"
          ]
        }
      ]
    },
    {
      "cell_type": "markdown",
      "source": [
        "Question 2"
      ],
      "metadata": {
        "id": "bYw5yxQm8cJL"
      }
    },
    {
      "cell_type": "code",
      "source": [
        "def firstUniqChar(s):\n",
        "    char_freq = {}\n",
        "    for char in s:\n",
        "        char_freq[char] = char_freq.get(char, 0) + 1\n",
        "    for i, char in enumerate(s):\n",
        "        if char_freq[char] == 1:\n",
        "            return i\n",
        "    return -1\n",
        "# Ex 1\n",
        "s = \"leetcode\"\n",
        "print(firstUniqChar(s))\n",
        "\n",
        "# Ex 2\n",
        "s = \"loveleetcode\"\n",
        "print(firstUniqChar(s))\n",
        "\n",
        "# Ex 3\n",
        "s = \"aabb\"\n",
        "print(firstUniqChar(s))\n"
      ],
      "metadata": {
        "colab": {
          "base_uri": "https://localhost:8080/"
        },
        "id": "Zu3WMms28eP7",
        "outputId": "3ec54e1f-d582-4b3f-d57b-11c45a318606"
      },
      "execution_count": 3,
      "outputs": [
        {
          "output_type": "stream",
          "name": "stdout",
          "text": [
            "0\n",
            "2\n",
            "-1\n"
          ]
        }
      ]
    }
  ]
}