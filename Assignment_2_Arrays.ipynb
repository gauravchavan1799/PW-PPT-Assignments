{
  "nbformat": 4,
  "nbformat_minor": 0,
  "metadata": {
    "colab": {
      "provenance": []
    },
    "kernelspec": {
      "name": "python3",
      "display_name": "Python 3"
    },
    "language_info": {
      "name": "python"
    }
  },
  "cells": [
    {
      "cell_type": "markdown",
      "source": [
        "Question 1"
      ],
      "metadata": {
        "id": "DlcEPsj1xt7f"
      }
    },
    {
      "cell_type": "code",
      "source": [
        "def arrayMaxSum(nums):\n",
        "    nums.sort()\n",
        "    max_sum = 0\n",
        "    for i in range(0, len(nums), 2):\n",
        "        max_sum += nums[i]\n",
        "    return max_sum\n",
        "nums = [1, 4, 3, 2]\n",
        "print(arrayMaxSum(nums))"
      ],
      "metadata": {
        "colab": {
          "base_uri": "https://localhost:8080/"
        },
        "id": "WaFlm1nBxw3j",
        "outputId": "70f9e986-ceda-4e2e-dac5-32bd98d23cca"
      },
      "execution_count": 2,
      "outputs": [
        {
          "output_type": "stream",
          "name": "stdout",
          "text": [
            "4\n"
          ]
        }
      ]
    },
    {
      "cell_type": "markdown",
      "source": [
        "Question 2"
      ],
      "metadata": {
        "id": "30NSzHaFyRVA"
      }
    },
    {
      "cell_type": "code",
      "source": [
        "def Candies(candyType):\n",
        "    unique_candies = set()\n",
        "    for candy in candyType:\n",
        "        unique_candies.add(candy)\n",
        "    return min(len(unique_candies), len(candyType) // 2)\n",
        "candyType = [1, 1, 2, 2, 3, 3]\n",
        "print(Candies(candyType))"
      ],
      "metadata": {
        "colab": {
          "base_uri": "https://localhost:8080/"
        },
        "id": "vi7Qp6lEyUWd",
        "outputId": "791b78b0-e9c0-498c-ffa6-a61a1ba9e433"
      },
      "execution_count": 3,
      "outputs": [
        {
          "output_type": "stream",
          "name": "stdout",
          "text": [
            "3\n"
          ]
        }
      ]
    },
    {
      "cell_type": "markdown",
      "source": [
        "Question 3"
      ],
      "metadata": {
        "id": "VdcJhMKryjln"
      }
    },
    {
      "cell_type": "code",
      "source": [
        "def findLHS(nums):\n",
        "    count = {}\n",
        "    for num in nums:\n",
        "        if num not in count:\n",
        "            count[num] = 1\n",
        "        else:\n",
        "            count[num] += 1\n",
        "\n",
        "    max_length = 0\n",
        "    for num in nums:\n",
        "        if num + 1 in count:\n",
        "            max_length = max(max_length, count[num] + count[num + 1])\n",
        "\n",
        "    return max_length\n",
        "\n",
        "nums = [1, 3, 2, 2, 5, 2, 3, 7]\n",
        "print(findLHS(nums))"
      ],
      "metadata": {
        "colab": {
          "base_uri": "https://localhost:8080/"
        },
        "id": "_pNZbuT-ymQr",
        "outputId": "dd6cb881-4850-4eb8-933f-5e9a696caa3f"
      },
      "execution_count": 4,
      "outputs": [
        {
          "output_type": "stream",
          "name": "stdout",
          "text": [
            "5\n"
          ]
        }
      ]
    },
    {
      "cell_type": "markdown",
      "source": [
        "Question 4   "
      ],
      "metadata": {
        "id": "EobmOM2iyqbp"
      }
    },
    {
      "cell_type": "code",
      "source": [
        "def Flowers(flowerbed, n):\n",
        "    count = 0\n",
        "    length = len(flowerbed)\n",
        "\n",
        "    for i in range(length):\n",
        "        if flowerbed[i] == 0 and (i == 0 or flowerbed[i - 1] == 0) and (i == length - 1 or flowerbed[i + 1] == 0):\n",
        "            flowerbed[i] = 1\n",
        "            count += 1\n",
        "\n",
        "    return count >= n\n",
        "flowerbed = [1, 0, 0, 0, 1]\n",
        "n = 1\n",
        "print(Flowers(flowerbed, n))"
      ],
      "metadata": {
        "colab": {
          "base_uri": "https://localhost:8080/"
        },
        "id": "pqCqk1qoywW1",
        "outputId": "67dd1048-c19a-4b6e-834c-c807190ad0de"
      },
      "execution_count": 5,
      "outputs": [
        {
          "output_type": "stream",
          "name": "stdout",
          "text": [
            "True\n"
          ]
        }
      ]
    },
    {
      "cell_type": "markdown",
      "source": [
        "Question 5"
      ],
      "metadata": {
        "id": "irgNzncLzROw"
      }
    },
    {
      "cell_type": "code",
      "source": [
        "def maxiProduct(nums):\n",
        "    nums.sort()\n",
        "    max_product = nums[-1] * nums[-2] * nums[-3]\n",
        "\n",
        "    if nums[0] < 0 and nums[1] < 0:\n",
        "        alt_product = nums[0] * nums[1] * nums[-1]\n",
        "        return max(max_product, alt_product)\n",
        "\n",
        "    return max_product\n",
        "nums = [1, 2, 3]\n",
        "print(maxiProduct(nums))"
      ],
      "metadata": {
        "colab": {
          "base_uri": "https://localhost:8080/"
        },
        "id": "9GdSt9TJy-pb",
        "outputId": "366b1301-7cc5-44f6-b999-2f7548f18107"
      },
      "execution_count": 6,
      "outputs": [
        {
          "output_type": "stream",
          "name": "stdout",
          "text": [
            "6\n"
          ]
        }
      ]
    },
    {
      "cell_type": "markdown",
      "source": [
        "Question 6"
      ],
      "metadata": {
        "id": "7vC_KCOvzOEL"
      }
    },
    {
      "cell_type": "code",
      "source": [
        "def search(nums, target):\n",
        "    left, right = 0, len(nums) - 1\n",
        "\n",
        "    while left <= right:\n",
        "        mid = (left + right) // 2\n",
        "        if nums[mid] == target:\n",
        "            return mid\n",
        "        elif nums[mid] < target:\n",
        "            left = mid + 1\n",
        "        else:\n",
        "            right = mid - 1\n",
        "\n",
        "    return -1\n",
        "nums = [-1, 0, 3, 5, 9, 12]\n",
        "target = 9\n",
        "print(search(nums, target))"
      ],
      "metadata": {
        "colab": {
          "base_uri": "https://localhost:8080/"
        },
        "id": "vZZkLF3RzTwX",
        "outputId": "dc734a29-d6f4-4675-84b8-75d7e10d4558"
      },
      "execution_count": 8,
      "outputs": [
        {
          "output_type": "stream",
          "name": "stdout",
          "text": [
            "4\n"
          ]
        }
      ]
    },
    {
      "cell_type": "markdown",
      "source": [
        "Question 7"
      ],
      "metadata": {
        "id": "ksu7JYZ3zXm-"
      }
    },
    {
      "cell_type": "code",
      "source": [
        "def Monotonic(nums):\n",
        "    isIncreasing = True\n",
        "    isDecreasing = True\n",
        "\n",
        "    for i in range(1, len(nums)):\n",
        "        if nums[i] < nums[i-1]:\n",
        "            isIncreasing = False\n",
        "        if nums[i] > nums[i-1]:\n",
        "            isDecreasing = False\n",
        "\n",
        "    return isIncreasing or isDecreasing\n",
        "\n",
        "nums = [1, 2, 2, 3]\n",
        "print(Monotonic(nums))"
      ],
      "metadata": {
        "colab": {
          "base_uri": "https://localhost:8080/"
        },
        "id": "eQw2uepMzZ4p",
        "outputId": "628f6d4b-ee14-4668-d432-b0519a267e7f"
      },
      "execution_count": 9,
      "outputs": [
        {
          "output_type": "stream",
          "name": "stdout",
          "text": [
            "True\n"
          ]
        }
      ]
    },
    {
      "cell_type": "markdown",
      "source": [
        "Question 8"
      ],
      "metadata": {
        "id": "IqDQz20kzmov"
      }
    },
    {
      "cell_type": "code",
      "source": [
        "def miniScore(nums, k):\n",
        "    maximum = max(nums)\n",
        "    minimum = min(nums)\n",
        "\n",
        "    if maximum - minimum <= 2 * k:\n",
        "        return 0\n",
        "\n",
        "    return maximum - minimum - 2 * k\n",
        "\n",
        "# Example 1:\n",
        "nums = [1]\n",
        "k = 0\n",
        "print(miniScore(nums, k))"
      ],
      "metadata": {
        "colab": {
          "base_uri": "https://localhost:8080/"
        },
        "id": "Xy59Dgdbzoq7",
        "outputId": "a1456ef0-01dd-4300-91b9-85c3cf51a291"
      },
      "execution_count": 10,
      "outputs": [
        {
          "output_type": "stream",
          "name": "stdout",
          "text": [
            "0\n"
          ]
        }
      ]
    }
  ]
}